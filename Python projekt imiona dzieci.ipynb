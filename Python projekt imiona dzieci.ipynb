{
 "cells": [
  {
   "cell_type": "markdown",
   "metadata": {},
   "source": [
    "# Analiza i wizualizacja najpopularniejszych imion dla dzieci w Stanach Zjednoczonych"
   ]
  },
  {
   "cell_type": "code",
   "execution_count": 1,
   "metadata": {},
   "outputs": [],
   "source": [
    "import pandas as pd\n",
    "import matplotlib.pyplot as plt"
   ]
  },
  {
   "cell_type": "code",
   "execution_count": 2,
   "metadata": {},
   "outputs": [],
   "source": [
    "dataframe = pd.read_csv(\"https://raw.githubusercontent.com/matzim95/ML-datasets/master/US_Baby_Names_right.csv\")"
   ]
  },
  {
   "cell_type": "code",
   "execution_count": 3,
   "metadata": {},
   "outputs": [
    {
     "data": {
      "text/html": [
       "<div>\n",
       "<style scoped>\n",
       "    .dataframe tbody tr th:only-of-type {\n",
       "        vertical-align: middle;\n",
       "    }\n",
       "\n",
       "    .dataframe tbody tr th {\n",
       "        vertical-align: top;\n",
       "    }\n",
       "\n",
       "    .dataframe thead th {\n",
       "        text-align: right;\n",
       "    }\n",
       "</style>\n",
       "<table border=\"1\" class=\"dataframe\">\n",
       "  <thead>\n",
       "    <tr style=\"text-align: right;\">\n",
       "      <th></th>\n",
       "      <th>Unnamed: 0</th>\n",
       "      <th>Id</th>\n",
       "      <th>Name</th>\n",
       "      <th>Year</th>\n",
       "      <th>Gender</th>\n",
       "      <th>State</th>\n",
       "      <th>Count</th>\n",
       "    </tr>\n",
       "  </thead>\n",
       "  <tbody>\n",
       "    <tr>\n",
       "      <th>0</th>\n",
       "      <td>11349</td>\n",
       "      <td>11350</td>\n",
       "      <td>Emma</td>\n",
       "      <td>2004</td>\n",
       "      <td>F</td>\n",
       "      <td>AK</td>\n",
       "      <td>62</td>\n",
       "    </tr>\n",
       "    <tr>\n",
       "      <th>1</th>\n",
       "      <td>11350</td>\n",
       "      <td>11351</td>\n",
       "      <td>Madison</td>\n",
       "      <td>2004</td>\n",
       "      <td>F</td>\n",
       "      <td>AK</td>\n",
       "      <td>48</td>\n",
       "    </tr>\n",
       "    <tr>\n",
       "      <th>2</th>\n",
       "      <td>11351</td>\n",
       "      <td>11352</td>\n",
       "      <td>Hannah</td>\n",
       "      <td>2004</td>\n",
       "      <td>F</td>\n",
       "      <td>AK</td>\n",
       "      <td>46</td>\n",
       "    </tr>\n",
       "    <tr>\n",
       "      <th>3</th>\n",
       "      <td>11352</td>\n",
       "      <td>11353</td>\n",
       "      <td>Grace</td>\n",
       "      <td>2004</td>\n",
       "      <td>F</td>\n",
       "      <td>AK</td>\n",
       "      <td>44</td>\n",
       "    </tr>\n",
       "    <tr>\n",
       "      <th>4</th>\n",
       "      <td>11353</td>\n",
       "      <td>11354</td>\n",
       "      <td>Emily</td>\n",
       "      <td>2004</td>\n",
       "      <td>F</td>\n",
       "      <td>AK</td>\n",
       "      <td>41</td>\n",
       "    </tr>\n",
       "  </tbody>\n",
       "</table>\n",
       "</div>"
      ],
      "text/plain": [
       "   Unnamed: 0     Id     Name  Year Gender State  Count\n",
       "0       11349  11350     Emma  2004      F    AK     62\n",
       "1       11350  11351  Madison  2004      F    AK     48\n",
       "2       11351  11352   Hannah  2004      F    AK     46\n",
       "3       11352  11353    Grace  2004      F    AK     44\n",
       "4       11353  11354    Emily  2004      F    AK     41"
      ]
     },
     "execution_count": 3,
     "metadata": {},
     "output_type": "execute_result"
    }
   ],
   "source": [
    "dataframe.head()"
   ]
  },
  {
   "cell_type": "code",
   "execution_count": 4,
   "metadata": {},
   "outputs": [],
   "source": [
    "del dataframe [\"Unnamed: 0\"]"
   ]
  },
  {
   "cell_type": "code",
   "execution_count": 5,
   "metadata": {},
   "outputs": [],
   "source": [
    "del dataframe [\"Id\"]"
   ]
  },
  {
   "cell_type": "code",
   "execution_count": 6,
   "metadata": {},
   "outputs": [
    {
     "name": "stdout",
     "output_type": "stream",
     "text": [
      "<class 'pandas.core.frame.DataFrame'>\n",
      "RangeIndex: 1016395 entries, 0 to 1016394\n",
      "Data columns (total 5 columns):\n",
      " #   Column  Non-Null Count    Dtype \n",
      "---  ------  --------------    ----- \n",
      " 0   Name    1016395 non-null  object\n",
      " 1   Year    1016395 non-null  int64 \n",
      " 2   Gender  1016395 non-null  object\n",
      " 3   State   1016395 non-null  object\n",
      " 4   Count   1016395 non-null  int64 \n",
      "dtypes: int64(2), object(3)\n",
      "memory usage: 38.8+ MB\n"
     ]
    }
   ],
   "source": [
    "dataframe.info()"
   ]
  },
  {
   "cell_type": "code",
   "execution_count": 7,
   "metadata": {},
   "outputs": [
    {
     "data": {
      "text/html": [
       "<div>\n",
       "<style scoped>\n",
       "    .dataframe tbody tr th:only-of-type {\n",
       "        vertical-align: middle;\n",
       "    }\n",
       "\n",
       "    .dataframe tbody tr th {\n",
       "        vertical-align: top;\n",
       "    }\n",
       "\n",
       "    .dataframe thead th {\n",
       "        text-align: right;\n",
       "    }\n",
       "</style>\n",
       "<table border=\"1\" class=\"dataframe\">\n",
       "  <thead>\n",
       "    <tr style=\"text-align: right;\">\n",
       "      <th></th>\n",
       "      <th>Year</th>\n",
       "      <th>Count</th>\n",
       "    </tr>\n",
       "  </thead>\n",
       "  <tbody>\n",
       "    <tr>\n",
       "      <th>count</th>\n",
       "      <td>1.016395e+06</td>\n",
       "      <td>1.016395e+06</td>\n",
       "    </tr>\n",
       "    <tr>\n",
       "      <th>mean</th>\n",
       "      <td>2.009053e+03</td>\n",
       "      <td>3.485012e+01</td>\n",
       "    </tr>\n",
       "    <tr>\n",
       "      <th>std</th>\n",
       "      <td>3.138293e+00</td>\n",
       "      <td>9.739735e+01</td>\n",
       "    </tr>\n",
       "    <tr>\n",
       "      <th>min</th>\n",
       "      <td>2.004000e+03</td>\n",
       "      <td>5.000000e+00</td>\n",
       "    </tr>\n",
       "    <tr>\n",
       "      <th>25%</th>\n",
       "      <td>2.006000e+03</td>\n",
       "      <td>7.000000e+00</td>\n",
       "    </tr>\n",
       "    <tr>\n",
       "      <th>50%</th>\n",
       "      <td>2.009000e+03</td>\n",
       "      <td>1.100000e+01</td>\n",
       "    </tr>\n",
       "    <tr>\n",
       "      <th>75%</th>\n",
       "      <td>2.012000e+03</td>\n",
       "      <td>2.600000e+01</td>\n",
       "    </tr>\n",
       "    <tr>\n",
       "      <th>max</th>\n",
       "      <td>2.014000e+03</td>\n",
       "      <td>4.167000e+03</td>\n",
       "    </tr>\n",
       "  </tbody>\n",
       "</table>\n",
       "</div>"
      ],
      "text/plain": [
       "               Year         Count\n",
       "count  1.016395e+06  1.016395e+06\n",
       "mean   2.009053e+03  3.485012e+01\n",
       "std    3.138293e+00  9.739735e+01\n",
       "min    2.004000e+03  5.000000e+00\n",
       "25%    2.006000e+03  7.000000e+00\n",
       "50%    2.009000e+03  1.100000e+01\n",
       "75%    2.012000e+03  2.600000e+01\n",
       "max    2.014000e+03  4.167000e+03"
      ]
     },
     "execution_count": 7,
     "metadata": {},
     "output_type": "execute_result"
    }
   ],
   "source": [
    "dataframe.describe()"
   ]
  },
  {
   "cell_type": "code",
   "execution_count": 8,
   "metadata": {},
   "outputs": [
    {
     "data": {
      "text/plain": [
       "Name      Year  Gender  State  Count\n",
       "Zyriah    2014  F       TX     6        1\n",
       "Emmely    2009  F       TX     7        1\n",
       "Emmerson  2005  F       TX     7        1\n",
       "                        MI     6        1\n",
       "                        CA     6        1\n",
       "                                       ..\n",
       "Luis      2010  M       OH     45       1\n",
       "                        NY     235      1\n",
       "                        NV     92       1\n",
       "                        NM     60       1\n",
       "Aaban     2013  M       NY     6        1\n",
       "Length: 1016395, dtype: int64"
      ]
     },
     "execution_count": 8,
     "metadata": {},
     "output_type": "execute_result"
    }
   ],
   "source": [
    "dataframe.value_counts()"
   ]
  },
  {
   "cell_type": "markdown",
   "metadata": {},
   "source": [
    "Sprawdzamy, czy w zbiorze jest więcej imion żeńskich czy męskich"
   ]
  },
  {
   "cell_type": "code",
   "execution_count": 9,
   "metadata": {},
   "outputs": [
    {
     "data": {
      "text/plain": [
       "0.5498315123549408"
      ]
     },
     "execution_count": 9,
     "metadata": {},
     "output_type": "execute_result"
    }
   ],
   "source": [
    "(dataframe.Gender == \"F\").mean()"
   ]
  },
  {
   "cell_type": "code",
   "execution_count": 10,
   "metadata": {},
   "outputs": [
    {
     "data": {
      "text/plain": [
       "0.45016848764505923"
      ]
     },
     "execution_count": 10,
     "metadata": {},
     "output_type": "execute_result"
    }
   ],
   "source": [
    "(dataframe.Gender == \"M\").mean()"
   ]
  },
  {
   "cell_type": "code",
   "execution_count": 11,
   "metadata": {},
   "outputs": [],
   "source": [
    "female_percentage = (dataframe.Gender == \"F\").mean()"
   ]
  },
  {
   "cell_type": "code",
   "execution_count": 12,
   "metadata": {},
   "outputs": [],
   "source": [
    "female_percentage = (dataframe.Gender == \"F\").mean()"
   ]
  },
  {
   "cell_type": "code",
   "execution_count": 13,
   "metadata": {},
   "outputs": [
    {
     "data": {
      "image/png": "[encoded data removed]",
      "text/plain": [
       "<Figure size 432x288 with 1 Axes>"
      ]
     },
     "metadata": {},
     "output_type": "display_data"
    }
   ],
   "source": [
    "gender_value_counts = dataframe[\"Gender\"].value_counts()\n",
    "my_labels = [\"Female\", \"Male\"]\n",
    "my_colors = [\"pink\", \"lightblue\"]\n",
    "my_labels_percentage = [female_percentage*100, male_percentage*100]\n",
    "plt.pie(gender_value_counts, labels = my_labels_percentage, colors = my_colors)\n",
    "plt.legend(my_labels, bbox_to_anchor=(1, 1.02))\n",
    "plt.title(\"Female to male baby names ratio in the dataset\")\n",
    "plt.show()"
   ]
  },
  {
   "cell_type": "markdown",
   "metadata": {},
   "source": [
    "Powyższy wykres pokazuje, że w zbiorze danych jest nieco więcej imion żenskich niż męskich, a różnica to około 5%."
   ]
  },
  {
   "cell_type": "markdown",
   "metadata": {},
   "source": [
    "Sprawdzamy, ile różnych imion znajduje się w zbiorze danych"
   ]
  },
  {
   "cell_type": "code",
   "execution_count": 14,
   "metadata": {},
   "outputs": [
    {
     "data": {
      "text/plain": [
       "17632"
      ]
     },
     "execution_count": 14,
     "metadata": {},
     "output_type": "execute_result"
    }
   ],
   "source": [
    "dataframe.Name.nunique()"
   ]
  },
  {
   "cell_type": "code",
   "execution_count": 15,
   "metadata": {},
   "outputs": [
    {
     "data": {
      "text/html": [
       "<div>\n",
       "<style scoped>\n",
       "    .dataframe tbody tr th:only-of-type {\n",
       "        vertical-align: middle;\n",
       "    }\n",
       "\n",
       "    .dataframe tbody tr th {\n",
       "        vertical-align: top;\n",
       "    }\n",
       "\n",
       "    .dataframe thead th {\n",
       "        text-align: right;\n",
       "    }\n",
       "</style>\n",
       "<table border=\"1\" class=\"dataframe\">\n",
       "  <thead>\n",
       "    <tr style=\"text-align: right;\">\n",
       "      <th></th>\n",
       "      <th>Name</th>\n",
       "      <th>Gender</th>\n",
       "      <th>State</th>\n",
       "      <th>Count</th>\n",
       "    </tr>\n",
       "    <tr>\n",
       "      <th>Year</th>\n",
       "      <th></th>\n",
       "      <th></th>\n",
       "      <th></th>\n",
       "      <th></th>\n",
       "    </tr>\n",
       "  </thead>\n",
       "  <tbody>\n",
       "    <tr>\n",
       "      <th>2004</th>\n",
       "      <td>86420</td>\n",
       "      <td>86420</td>\n",
       "      <td>86420</td>\n",
       "      <td>86420</td>\n",
       "    </tr>\n",
       "    <tr>\n",
       "      <th>2005</th>\n",
       "      <td>88494</td>\n",
       "      <td>88494</td>\n",
       "      <td>88494</td>\n",
       "      <td>88494</td>\n",
       "    </tr>\n",
       "    <tr>\n",
       "      <th>2006</th>\n",
       "      <td>91803</td>\n",
       "      <td>91803</td>\n",
       "      <td>91803</td>\n",
       "      <td>91803</td>\n",
       "    </tr>\n",
       "    <tr>\n",
       "      <th>2007</th>\n",
       "      <td>94332</td>\n",
       "      <td>94332</td>\n",
       "      <td>94332</td>\n",
       "      <td>94332</td>\n",
       "    </tr>\n",
       "    <tr>\n",
       "      <th>2008</th>\n",
       "      <td>94970</td>\n",
       "      <td>94970</td>\n",
       "      <td>94970</td>\n",
       "      <td>94970</td>\n",
       "    </tr>\n",
       "    <tr>\n",
       "      <th>2009</th>\n",
       "      <td>94609</td>\n",
       "      <td>94609</td>\n",
       "      <td>94609</td>\n",
       "      <td>94609</td>\n",
       "    </tr>\n",
       "    <tr>\n",
       "      <th>2010</th>\n",
       "      <td>93307</td>\n",
       "      <td>93307</td>\n",
       "      <td>93307</td>\n",
       "      <td>93307</td>\n",
       "    </tr>\n",
       "    <tr>\n",
       "      <th>2011</th>\n",
       "      <td>92545</td>\n",
       "      <td>92545</td>\n",
       "      <td>92545</td>\n",
       "      <td>92545</td>\n",
       "    </tr>\n",
       "    <tr>\n",
       "      <th>2012</th>\n",
       "      <td>93024</td>\n",
       "      <td>93024</td>\n",
       "      <td>93024</td>\n",
       "      <td>93024</td>\n",
       "    </tr>\n",
       "    <tr>\n",
       "      <th>2013</th>\n",
       "      <td>92743</td>\n",
       "      <td>92743</td>\n",
       "      <td>92743</td>\n",
       "      <td>92743</td>\n",
       "    </tr>\n",
       "    <tr>\n",
       "      <th>2014</th>\n",
       "      <td>94148</td>\n",
       "      <td>94148</td>\n",
       "      <td>94148</td>\n",
       "      <td>94148</td>\n",
       "    </tr>\n",
       "  </tbody>\n",
       "</table>\n",
       "</div>"
      ],
      "text/plain": [
       "       Name  Gender  State  Count\n",
       "Year                             \n",
       "2004  86420   86420  86420  86420\n",
       "2005  88494   88494  88494  88494\n",
       "2006  91803   91803  91803  91803\n",
       "2007  94332   94332  94332  94332\n",
       "2008  94970   94970  94970  94970\n",
       "2009  94609   94609  94609  94609\n",
       "2010  93307   93307  93307  93307\n",
       "2011  92545   92545  92545  92545\n",
       "2012  93024   93024  93024  93024\n",
       "2013  92743   92743  92743  92743\n",
       "2014  94148   94148  94148  94148"
      ]
     },
     "execution_count": 15,
     "metadata": {},
     "output_type": "execute_result"
    }
   ],
   "source": [
    "dataframe.groupby(\"Year\").count()"
   ]
  },
  {
   "cell_type": "code",
   "execution_count": 32,
   "metadata": {},
   "outputs": [],
   "source": [
    "most_popular_names = (\n",
    "    dataframe\n",
    "    .groupby([\"Name\", \"Gender\"])\n",
    "    .Count\n",
    "    .sum()\n",
    "    .reset_index()\n",
    "    .sort_values(\"Count\", ascending = False)\n",
    ")"
   ]
  },
  {
   "cell_type": "markdown",
   "metadata": {},
   "source": [
    "Sprawdzamy 20 najczęściej występujących imion w zbiorze danych"
   ]
  },
  {
   "cell_type": "code",
   "execution_count": 33,
   "metadata": {},
   "outputs": [
    {
     "data": {
      "text/html": [
       "<div>\n",
       "<style scoped>\n",
       "    .dataframe tbody tr th:only-of-type {\n",
       "        vertical-align: middle;\n",
       "    }\n",
       "\n",
       "    .dataframe tbody tr th {\n",
       "        vertical-align: top;\n",
       "    }\n",
       "\n",
       "    .dataframe thead th {\n",
       "        text-align: right;\n",
       "    }\n",
       "</style>\n",
       "<table border=\"1\" class=\"dataframe\">\n",
       "  <thead>\n",
       "    <tr style=\"text-align: right;\">\n",
       "      <th></th>\n",
       "      <th>Name</th>\n",
       "      <th>Gender</th>\n",
       "      <th>Count</th>\n",
       "    </tr>\n",
       "  </thead>\n",
       "  <tbody>\n",
       "    <tr>\n",
       "      <th>7740</th>\n",
       "      <td>Jacob</td>\n",
       "      <td>M</td>\n",
       "      <td>242706</td>\n",
       "    </tr>\n",
       "    <tr>\n",
       "      <th>5801</th>\n",
       "      <td>Emma</td>\n",
       "      <td>F</td>\n",
       "      <td>214757</td>\n",
       "    </tr>\n",
       "    <tr>\n",
       "      <th>13040</th>\n",
       "      <td>Michael</td>\n",
       "      <td>M</td>\n",
       "      <td>214228</td>\n",
       "    </tr>\n",
       "    <tr>\n",
       "      <th>6010</th>\n",
       "      <td>Ethan</td>\n",
       "      <td>M</td>\n",
       "      <td>209153</td>\n",
       "    </tr>\n",
       "    <tr>\n",
       "      <th>7499</th>\n",
       "      <td>Isabella</td>\n",
       "      <td>F</td>\n",
       "      <td>204742</td>\n",
       "    </tr>\n",
       "    <tr>\n",
       "      <th>18015</th>\n",
       "      <td>William</td>\n",
       "      <td>M</td>\n",
       "      <td>197796</td>\n",
       "    </tr>\n",
       "    <tr>\n",
       "      <th>9211</th>\n",
       "      <td>Joshua</td>\n",
       "      <td>M</td>\n",
       "      <td>191444</td>\n",
       "    </tr>\n",
       "    <tr>\n",
       "      <th>16545</th>\n",
       "      <td>Sophia</td>\n",
       "      <td>F</td>\n",
       "      <td>191421</td>\n",
       "    </tr>\n",
       "    <tr>\n",
       "      <th>4501</th>\n",
       "      <td>Daniel</td>\n",
       "      <td>M</td>\n",
       "      <td>191303</td>\n",
       "    </tr>\n",
       "    <tr>\n",
       "      <th>5789</th>\n",
       "      <td>Emily</td>\n",
       "      <td>F</td>\n",
       "      <td>190211</td>\n",
       "    </tr>\n",
       "    <tr>\n",
       "      <th>14201</th>\n",
       "      <td>Olivia</td>\n",
       "      <td>F</td>\n",
       "      <td>187962</td>\n",
       "    </tr>\n",
       "    <tr>\n",
       "      <th>795</th>\n",
       "      <td>Alexander</td>\n",
       "      <td>M</td>\n",
       "      <td>187037</td>\n",
       "    </tr>\n",
       "    <tr>\n",
       "      <th>12701</th>\n",
       "      <td>Matthew</td>\n",
       "      <td>M</td>\n",
       "      <td>185188</td>\n",
       "    </tr>\n",
       "    <tr>\n",
       "      <th>14020</th>\n",
       "      <td>Noah</td>\n",
       "      <td>M</td>\n",
       "      <td>179578</td>\n",
       "    </tr>\n",
       "    <tr>\n",
       "      <th>1670</th>\n",
       "      <td>Anthony</td>\n",
       "      <td>M</td>\n",
       "      <td>179202</td>\n",
       "    </tr>\n",
       "    <tr>\n",
       "      <th>1413</th>\n",
       "      <td>Andrew</td>\n",
       "      <td>M</td>\n",
       "      <td>174894</td>\n",
       "    </tr>\n",
       "    <tr>\n",
       "      <th>3944</th>\n",
       "      <td>Christopher</td>\n",
       "      <td>M</td>\n",
       "      <td>172871</td>\n",
       "    </tr>\n",
       "    <tr>\n",
       "      <th>9199</th>\n",
       "      <td>Joseph</td>\n",
       "      <td>M</td>\n",
       "      <td>169868</td>\n",
       "    </tr>\n",
       "    <tr>\n",
       "      <th>4668</th>\n",
       "      <td>David</td>\n",
       "      <td>M</td>\n",
       "      <td>167558</td>\n",
       "    </tr>\n",
       "    <tr>\n",
       "      <th>2274</th>\n",
       "      <td>Ava</td>\n",
       "      <td>F</td>\n",
       "      <td>167319</td>\n",
       "    </tr>\n",
       "  </tbody>\n",
       "</table>\n",
       "</div>"
      ],
      "text/plain": [
       "              Name Gender   Count\n",
       "7740         Jacob      M  242706\n",
       "5801          Emma      F  214757\n",
       "13040      Michael      M  214228\n",
       "6010         Ethan      M  209153\n",
       "7499      Isabella      F  204742\n",
       "18015      William      M  197796\n",
       "9211        Joshua      M  191444\n",
       "16545       Sophia      F  191421\n",
       "4501        Daniel      M  191303\n",
       "5789         Emily      F  190211\n",
       "14201       Olivia      F  187962\n",
       "795      Alexander      M  187037\n",
       "12701      Matthew      M  185188\n",
       "14020         Noah      M  179578\n",
       "1670       Anthony      M  179202\n",
       "1413        Andrew      M  174894\n",
       "3944   Christopher      M  172871\n",
       "9199        Joseph      M  169868\n",
       "4668         David      M  167558\n",
       "2274           Ava      F  167319"
      ]
     },
     "execution_count": 33,
     "metadata": {},
     "output_type": "execute_result"
    }
   ],
   "source": [
    "most_popular_names[:20]"
   ]
  },
  {
   "cell_type": "code",
   "execution_count": 34,
   "metadata": {},
   "outputs": [],
   "source": [
    "unique_names_per_gender = (\n",
    "    dataframe\n",
    "    .groupby([\"Year\", \"Gender\"])\n",
    "    .Name\n",
    "    .nunique()\n",
    "    .unstack()\n",
    ")"
   ]
  },
  {
   "cell_type": "markdown",
   "metadata": {},
   "source": [
    "Sprawdzamy, ile było unikalnych imion dla dziewczynek i dla chłopców w każdym roku"
   ]
  },
  {
   "cell_type": "code",
   "execution_count": 35,
   "metadata": {},
   "outputs": [
    {
     "data": {
      "text/html": [
       "<div>\n",
       "<style scoped>\n",
       "    .dataframe tbody tr th:only-of-type {\n",
       "        vertical-align: middle;\n",
       "    }\n",
       "\n",
       "    .dataframe tbody tr th {\n",
       "        vertical-align: top;\n",
       "    }\n",
       "\n",
       "    .dataframe thead th {\n",
       "        text-align: right;\n",
       "    }\n",
       "</style>\n",
       "<table border=\"1\" class=\"dataframe\">\n",
       "  <thead>\n",
       "    <tr style=\"text-align: right;\">\n",
       "      <th>Gender</th>\n",
       "      <th>F</th>\n",
       "      <th>M</th>\n",
       "    </tr>\n",
       "    <tr>\n",
       "      <th>Year</th>\n",
       "      <th></th>\n",
       "      <th></th>\n",
       "    </tr>\n",
       "  </thead>\n",
       "  <tbody>\n",
       "    <tr>\n",
       "      <th>2004</th>\n",
       "      <td>5729</td>\n",
       "      <td>4263</td>\n",
       "    </tr>\n",
       "    <tr>\n",
       "      <th>2005</th>\n",
       "      <td>5694</td>\n",
       "      <td>4219</td>\n",
       "    </tr>\n",
       "    <tr>\n",
       "      <th>2006</th>\n",
       "      <td>5884</td>\n",
       "      <td>4315</td>\n",
       "    </tr>\n",
       "    <tr>\n",
       "      <th>2007</th>\n",
       "      <td>6044</td>\n",
       "      <td>4465</td>\n",
       "    </tr>\n",
       "    <tr>\n",
       "      <th>2008</th>\n",
       "      <td>6053</td>\n",
       "      <td>4425</td>\n",
       "    </tr>\n",
       "    <tr>\n",
       "      <th>2009</th>\n",
       "      <td>5989</td>\n",
       "      <td>4503</td>\n",
       "    </tr>\n",
       "    <tr>\n",
       "      <th>2010</th>\n",
       "      <td>5810</td>\n",
       "      <td>4404</td>\n",
       "    </tr>\n",
       "    <tr>\n",
       "      <th>2011</th>\n",
       "      <td>5780</td>\n",
       "      <td>4412</td>\n",
       "    </tr>\n",
       "    <tr>\n",
       "      <th>2012</th>\n",
       "      <td>5775</td>\n",
       "      <td>4366</td>\n",
       "    </tr>\n",
       "    <tr>\n",
       "      <th>2013</th>\n",
       "      <td>5728</td>\n",
       "      <td>4324</td>\n",
       "    </tr>\n",
       "    <tr>\n",
       "      <th>2014</th>\n",
       "      <td>5729</td>\n",
       "      <td>4377</td>\n",
       "    </tr>\n",
       "  </tbody>\n",
       "</table>\n",
       "</div>"
      ],
      "text/plain": [
       "Gender     F     M\n",
       "Year              \n",
       "2004    5729  4263\n",
       "2005    5694  4219\n",
       "2006    5884  4315\n",
       "2007    6044  4465\n",
       "2008    6053  4425\n",
       "2009    5989  4503\n",
       "2010    5810  4404\n",
       "2011    5780  4412\n",
       "2012    5775  4366\n",
       "2013    5728  4324\n",
       "2014    5729  4377"
      ]
     },
     "execution_count": 35,
     "metadata": {},
     "output_type": "execute_result"
    }
   ],
   "source": [
    "unique_names_per_gender"
   ]
  },
  {
   "cell_type": "code",
   "execution_count": 36,
   "metadata": {},
   "outputs": [
    {
     "data": {
      "text/plain": [
       "(0.0, 6144.7)"
      ]
     },
     "execution_count": 36,
     "metadata": {},
     "output_type": "execute_result"
    },
    {
     "data": {
      "image/png": "[encoded data removed]",
      "text/plain": [
       "<Figure size 720x360 with 1 Axes>"
      ]
     },
     "metadata": {
      "needs_background": "light"
     },
     "output_type": "display_data"
    }
   ],
   "source": [
    "unique_names_per_gender.plot(figsize = (10, 5), linewidth = 4, color = [\"Pink\", \"Lightblue\"])\n",
    "plt.ylabel(\"Unique baby names\", fontsize = 12)\n",
    "plt.xlabel(\"Year\", fontsize = 12)\n",
    "plt.text(2013, 5800, \"Females\", color = \"Pink\", fontsize = 14, fontweight = \"bold\")\n",
    "plt.text(2013, 4460, \"Males\", color = \"Lightblue\", fontsize = 14, fontweight = \"bold\")\n",
    "plt.legend([], frameon = False)\n",
    "plt.title(\"Number of unique baby names over years for males and females\", fontsize = 18)\n",
    "ax = plt.gca()\n",
    "ax.tick_params (axis = \"both\", labelsize = 12)\n",
    "plt.ylim(0, None)"
   ]
  },
  {
   "cell_type": "markdown",
   "metadata": {},
   "source": [
    "Z powyższego wykresu wynika to, że w zbiorze danych jest więcej unikalnych imion żeńskich niż męskich i te różnice są mniej więcej proporcjonalnie takie same w każdym roku. Nie jest to zazdziwiajace, ponieważ wiemy już, że wszystkich imion w zbiorze danych było więcej żeńskich niż męskich, o niecałe 5%."
   ]
  },
  {
   "cell_type": "code",
   "execution_count": 38,
   "metadata": {},
   "outputs": [
    {
     "data": {
      "text/plain": [
       "Year  F   \n",
       "2004  5729    1\n",
       "2005  5694    1\n",
       "2006  5884    1\n",
       "2007  6044    1\n",
       "2008  6053    1\n",
       "2009  5989    1\n",
       "2010  5810    1\n",
       "2011  5780    1\n",
       "2012  5775    1\n",
       "2013  5728    1\n",
       "2014  5729    1\n",
       "Name: F, dtype: int64"
      ]
     },
     "execution_count": 38,
     "metadata": {},
     "output_type": "execute_result"
    }
   ],
   "source": [
    "unique_names_per_gender[\"F\"].groupby(\"Year\").value_counts()"
   ]
  },
  {
   "cell_type": "code",
   "execution_count": 39,
   "metadata": {},
   "outputs": [
    {
     "data": {
      "text/plain": [
       "Year  M   \n",
       "2004  4263    1\n",
       "2005  4219    1\n",
       "2006  4315    1\n",
       "2007  4465    1\n",
       "2008  4425    1\n",
       "2009  4503    1\n",
       "2010  4404    1\n",
       "2011  4412    1\n",
       "2012  4366    1\n",
       "2013  4324    1\n",
       "2014  4377    1\n",
       "Name: M, dtype: int64"
      ]
     },
     "execution_count": 39,
     "metadata": {},
     "output_type": "execute_result"
    }
   ],
   "source": [
    "unique_names_per_gender[\"M\"].groupby(\"Year\").value_counts()"
   ]
  },
  {
   "cell_type": "code",
   "execution_count": 64,
   "metadata": {},
   "outputs": [
    {
     "data": {
      "image/png": "[encoded data removed]",
      "text/plain": [
       "<Figure size 432x288 with 1 Axes>"
      ]
     },
     "metadata": {},
     "output_type": "display_data"
    }
   ],
   "source": [
    "my_colors_male = [\"aqua\", \"darkturquoise\", \"deepskyblue\", \"lightblue\", \"steelblue\", \"royalblue\", \"navy\", \"blue\", \"slateblue\", \"lightsteelblue\", \"aliceblue\"]\n",
    "my_labels_male = [\"2004\", \"2005\", \"2006\", \"2007\", \"2008\", \"2009\", \"2010\", \"2011\", \"2012\", \"2013\", \"2014\"]\n",
    "my_labels_male_2 = [\"4263\", \"4219\",\"4315\", \"4465\", \"4425\", \"4503\", \"4404\", \"4412\", \"4366\", \"4324\", \"4377\"]\n",
    "plt.pie(unique_names_per_gender[\"M\"].groupby(\"Year\").value_counts(), colors = my_colors_male, labels = my_labels_male_2)\n",
    "plt.title(\"Number of unique male baby names each year\")\n",
    "plt.legend(my_labels_male, bbox_to_anchor=(1.1, 1.02))\n",
    "plt.show()"
   ]
  },
  {
   "cell_type": "markdown",
   "metadata": {},
   "source": [
    "Powyższy wykres pokazuje liczbę unikalnych imion męskich w zbiorze danych w każdym roku. Liczby te różnią się bardzo nieznacznie, w każdym roku liczba unikalnych imion męskich jest podobna. "
   ]
  },
  {
   "cell_type": "code",
   "execution_count": 65,
   "metadata": {},
   "outputs": [
    {
     "data": {
      "image/png": "[encoded data removed]",
      "text/plain": [
       "<Figure size 432x288 with 1 Axes>"
      ]
     },
     "metadata": {},
     "output_type": "display_data"
    }
   ],
   "source": [
    "my_colors_female = [\"plum\", \"violet\", \"purple\", \"magenta\", \"orchid\", \"deeppink\", \"hotpink\", \"palevioletred\", \"lightpink\", \"darkorchid\", \"mediumpurple\"]\n",
    "my_labels_female = [\"2004\", \"2005\", \"2006\", \"2007\", \"2008\", \"2009\", \"2010\", \"2011\", \"2012\", \"2013\", \"2014\"]\n",
    "my_labels_female_2 = [\"5729\", \"5694\", \"5884\", \"6044\", \"6053\", \"5989\", \"5810\", \"5780\", \"5775\", \"5728\", \"5729\"]\n",
    "plt.pie(unique_names_per_gender[\"F\"].groupby(\"Year\").value_counts(), colors = my_colors_female, labels = my_labels_female_2)\n",
    "plt.title(\"Number of unique female baby names each year\")\n",
    "plt.legend(my_labels_female, bbox_to_anchor=(1.1, 1.02))\n",
    "plt.show()"
   ]
  },
  {
   "cell_type": "markdown",
   "metadata": {},
   "source": [
    "Powyższy wykres pokazuje liczbę unikalnych imion żeńskich w zbiorze danych w każdym roku. Liczby te różnią się bardzo nieznacznie, w każdym roku liczba unikalnych imion żeńskich jest podobna. "
   ]
  }
 ],
 "metadata": {
  "kernelspec": {
   "display_name": "Python 3",
   "language": "python",
   "name": "python3"
  },
  "language_info": {
   "codemirror_mode": {
    "name": "ipython",
    "version": 3
   },
   "file_extension": ".py",
   "mimetype": "text/x-python",
   "name": "python",
   "nbconvert_exporter": "python",
   "pygments_lexer": "ipython3",
   "version": "3.6.9"
  }
 },
 "nbformat": 4,
 "nbformat_minor": 4
}
